{
  "nbformat": 4,
  "nbformat_minor": 0,
  "metadata": {
    "colab": {
      "name": "pd reading csv.ipynb",
      "provenance": [],
      "collapsed_sections": [],
      "include_colab_link": true
    },
    "kernelspec": {
      "name": "python3",
      "display_name": "Python 3"
    }
  },
  "cells": [
    {
      "cell_type": "markdown",
      "metadata": {
        "id": "view-in-github",
        "colab_type": "text"
      },
      "source": [
        "<a href=\"https://colab.research.google.com/github/Jarvood11/Antilink-spam-system/blob/master/pd_reading_csv.ipynb\" target=\"_parent\"><img src=\"https://colab.research.google.com/assets/colab-badge.svg\" alt=\"Open In Colab\"/></a>"
      ]
    },
    {
      "cell_type": "code",
      "metadata": {
        "id": "YuiPDigbJQ7Z"
      },
      "source": [
        "import pandas as pd"
      ],
      "execution_count": null,
      "outputs": []
    },
    {
      "cell_type": "markdown",
      "metadata": {
        "id": "7mPfVLoNWOnT"
      },
      "source": [
        ""
      ]
    },
    {
      "cell_type": "code",
      "metadata": {
        "id": "ADADfPVaJeJG"
      },
      "source": [
        "df = pd.read_excel(\"Чеки71.xlsx\")"
      ],
      "execution_count": null,
      "outputs": []
    },
    {
      "cell_type": "code",
      "metadata": {
        "id": "pfPywqmLLvHM",
        "outputId": "c4278d5c-7755-4a10-a303-5d56f077808e",
        "colab": {
          "base_uri": "https://localhost:8080/",
          "height": 204
        }
      },
      "source": [
        "df.head()"
      ],
      "execution_count": null,
      "outputs": [
        {
          "output_type": "execute_result",
          "data": {
            "text/html": [
              "<div>\n",
              "<style scoped>\n",
              "    .dataframe tbody tr th:only-of-type {\n",
              "        vertical-align: middle;\n",
              "    }\n",
              "\n",
              "    .dataframe tbody tr th {\n",
              "        vertical-align: top;\n",
              "    }\n",
              "\n",
              "    .dataframe thead th {\n",
              "        text-align: right;\n",
              "    }\n",
              "</style>\n",
              "<table border=\"1\" class=\"dataframe\">\n",
              "  <thead>\n",
              "    <tr style=\"text-align: right;\">\n",
              "      <th></th>\n",
              "      <th>ID</th>\n",
              "      <th>District</th>\n",
              "      <th>Item</th>\n",
              "      <th>Tip_item</th>\n",
              "      <th>Quantity</th>\n",
              "      <th>Price_item</th>\n",
              "      <th>General_price</th>\n",
              "      <th>Ранг</th>\n",
              "      <th>num</th>\n",
              "    </tr>\n",
              "  </thead>\n",
              "  <tbody>\n",
              "    <tr>\n",
              "      <th>0</th>\n",
              "      <td>254</td>\n",
              "      <td>Академический</td>\n",
              "      <td>Waterman Ручка роллер Expert Black CT черная к...</td>\n",
              "      <td>Ручки</td>\n",
              "      <td>39</td>\n",
              "      <td>106</td>\n",
              "      <td>4134</td>\n",
              "      <td>428</td>\n",
              "      <td>1</td>\n",
              "    </tr>\n",
              "    <tr>\n",
              "      <th>1</th>\n",
              "      <td>144</td>\n",
              "      <td>Академический</td>\n",
              "      <td>Berlingo Ручка шариковая PR-05 синяя</td>\n",
              "      <td>Ручки</td>\n",
              "      <td>39</td>\n",
              "      <td>93</td>\n",
              "      <td>3627</td>\n",
              "      <td>428</td>\n",
              "      <td>1</td>\n",
              "    </tr>\n",
              "    <tr>\n",
              "      <th>2</th>\n",
              "      <td>815</td>\n",
              "      <td>Академический</td>\n",
              "      <td>Waterman Ручка роллер Carene Contemporary Whit...</td>\n",
              "      <td>Ручки</td>\n",
              "      <td>32</td>\n",
              "      <td>114</td>\n",
              "      <td>3648</td>\n",
              "      <td>568</td>\n",
              "      <td>1</td>\n",
              "    </tr>\n",
              "    <tr>\n",
              "      <th>3</th>\n",
              "      <td>652</td>\n",
              "      <td>Алексеевский</td>\n",
              "      <td>Waterman Ручка роллер Exception Slim Black CT ...</td>\n",
              "      <td>Ручки</td>\n",
              "      <td>59</td>\n",
              "      <td>70</td>\n",
              "      <td>4130</td>\n",
              "      <td>24</td>\n",
              "      <td>2</td>\n",
              "    </tr>\n",
              "    <tr>\n",
              "      <th>4</th>\n",
              "      <td>935</td>\n",
              "      <td>Алексеевский</td>\n",
              "      <td>Ручки Животные \"Лиса\". 002458</td>\n",
              "      <td>Ручки</td>\n",
              "      <td>58</td>\n",
              "      <td>61</td>\n",
              "      <td>3538</td>\n",
              "      <td>50</td>\n",
              "      <td>2</td>\n",
              "    </tr>\n",
              "  </tbody>\n",
              "</table>\n",
              "</div>"
            ],
            "text/plain": [
              "    ID       District  ... Ранг num\n",
              "0  254  Академический  ...  428   1\n",
              "1  144  Академический  ...  428   1\n",
              "2  815  Академический  ...  568   1\n",
              "3  652   Алексеевский  ...   24   2\n",
              "4  935   Алексеевский  ...   50   2\n",
              "\n",
              "[5 rows x 9 columns]"
            ]
          },
          "metadata": {
            "tags": []
          },
          "execution_count": 14
        }
      ]
    },
    {
      "cell_type": "code",
      "metadata": {
        "id": "QazYoa41Wjhd"
      },
      "source": [
        ""
      ],
      "execution_count": null,
      "outputs": []
    },
    {
      "cell_type": "code",
      "metadata": {
        "id": "yzas_aCLLxNX"
      },
      "source": [
        "districts = {v: i + 1 for i, v in enumerate(list(df[\"District\"].unique()))}"
      ],
      "execution_count": null,
      "outputs": []
    },
    {
      "cell_type": "code",
      "metadata": {
        "id": "Riyjq-UGQJ7h"
      },
      "source": [
        "rangs = {v: len(df) - i for i, v in enumerate(sorted(list(df[\"Quantity\"])))}"
      ],
      "execution_count": null,
      "outputs": []
    },
    {
      "cell_type": "code",
      "metadata": {
        "id": "N7x2JUGvQKtQ"
      },
      "source": [
        "df[\"num_1\"] = df[\"District\"].map(districts)\n",
        "df[\"Ранг_1\"] = df[\"Quantity\"].map(rangs)"
      ],
      "execution_count": null,
      "outputs": []
    },
    {
      "cell_type": "code",
      "metadata": {
        "id": "7-m-jitiQ3tm",
        "outputId": "0ad46da9-208a-4ad9-884a-08d3d3a62ae5",
        "colab": {
          "base_uri": "https://localhost:8080/",
          "height": 272
        }
      },
      "source": [
        "df.head()"
      ],
      "execution_count": null,
      "outputs": [
        {
          "output_type": "execute_result",
          "data": {
            "text/html": [
              "<div>\n",
              "<style scoped>\n",
              "    .dataframe tbody tr th:only-of-type {\n",
              "        vertical-align: middle;\n",
              "    }\n",
              "\n",
              "    .dataframe tbody tr th {\n",
              "        vertical-align: top;\n",
              "    }\n",
              "\n",
              "    .dataframe thead th {\n",
              "        text-align: right;\n",
              "    }\n",
              "</style>\n",
              "<table border=\"1\" class=\"dataframe\">\n",
              "  <thead>\n",
              "    <tr style=\"text-align: right;\">\n",
              "      <th></th>\n",
              "      <th>ID</th>\n",
              "      <th>District</th>\n",
              "      <th>Item</th>\n",
              "      <th>Tip_item</th>\n",
              "      <th>Quantity</th>\n",
              "      <th>Price_item</th>\n",
              "      <th>General_price</th>\n",
              "      <th>Ранг</th>\n",
              "      <th>num</th>\n",
              "      <th>num_1</th>\n",
              "      <th>Ранг_1</th>\n",
              "    </tr>\n",
              "  </thead>\n",
              "  <tbody>\n",
              "    <tr>\n",
              "      <th>0</th>\n",
              "      <td>254</td>\n",
              "      <td>Академический</td>\n",
              "      <td>Waterman Ручка роллер Expert Black CT черная к...</td>\n",
              "      <td>Ручки</td>\n",
              "      <td>39</td>\n",
              "      <td>106</td>\n",
              "      <td>4134</td>\n",
              "      <td>428</td>\n",
              "      <td>1</td>\n",
              "      <td>1</td>\n",
              "      <td>428</td>\n",
              "    </tr>\n",
              "    <tr>\n",
              "      <th>1</th>\n",
              "      <td>144</td>\n",
              "      <td>Академический</td>\n",
              "      <td>Berlingo Ручка шариковая PR-05 синяя</td>\n",
              "      <td>Ручки</td>\n",
              "      <td>39</td>\n",
              "      <td>93</td>\n",
              "      <td>3627</td>\n",
              "      <td>428</td>\n",
              "      <td>1</td>\n",
              "      <td>1</td>\n",
              "      <td>428</td>\n",
              "    </tr>\n",
              "    <tr>\n",
              "      <th>2</th>\n",
              "      <td>815</td>\n",
              "      <td>Академический</td>\n",
              "      <td>Waterman Ручка роллер Carene Contemporary Whit...</td>\n",
              "      <td>Ручки</td>\n",
              "      <td>32</td>\n",
              "      <td>114</td>\n",
              "      <td>3648</td>\n",
              "      <td>568</td>\n",
              "      <td>1</td>\n",
              "      <td>1</td>\n",
              "      <td>568</td>\n",
              "    </tr>\n",
              "    <tr>\n",
              "      <th>3</th>\n",
              "      <td>652</td>\n",
              "      <td>Алексеевский</td>\n",
              "      <td>Waterman Ручка роллер Exception Slim Black CT ...</td>\n",
              "      <td>Ручки</td>\n",
              "      <td>59</td>\n",
              "      <td>70</td>\n",
              "      <td>4130</td>\n",
              "      <td>24</td>\n",
              "      <td>2</td>\n",
              "      <td>2</td>\n",
              "      <td>24</td>\n",
              "    </tr>\n",
              "    <tr>\n",
              "      <th>4</th>\n",
              "      <td>935</td>\n",
              "      <td>Алексеевский</td>\n",
              "      <td>Ручки Животные \"Лиса\". 002458</td>\n",
              "      <td>Ручки</td>\n",
              "      <td>58</td>\n",
              "      <td>61</td>\n",
              "      <td>3538</td>\n",
              "      <td>50</td>\n",
              "      <td>2</td>\n",
              "      <td>2</td>\n",
              "      <td>50</td>\n",
              "    </tr>\n",
              "  </tbody>\n",
              "</table>\n",
              "</div>"
            ],
            "text/plain": [
              "    ID       District  ... num_1 Ранг_1\n",
              "0  254  Академический  ...     1    428\n",
              "1  144  Академический  ...     1    428\n",
              "2  815  Академический  ...     1    568\n",
              "3  652   Алексеевский  ...     2     24\n",
              "4  935   Алексеевский  ...     2     50\n",
              "\n",
              "[5 rows x 11 columns]"
            ]
          },
          "metadata": {
            "tags": []
          },
          "execution_count": 55
        }
      ]
    },
    {
      "cell_type": "code",
      "metadata": {
        "id": "ZWYFESWOR2f5",
        "outputId": "cc007f90-f38b-4900-a67e-195d2a1c0aa7",
        "colab": {
          "base_uri": "https://localhost:8080/",
          "height": 145
        }
      },
      "source": [
        "test_item = \"Berlingo Ручка шариковая PR-05 синяя\"\n",
        "idx = [1, 51]\n",
        "\n",
        "def check_num_in_idx(df, idx: list):\n",
        "  mask = df[\"num\"] == idx[0]\n",
        "  for id in idx[1:]:\n",
        "    mask |= df[\"num\"] == id\n",
        "  return mask\n",
        "\n",
        "df.loc[(check_num_in_idx(df, idx)) & (df[\"Item\"] == test_item)]"
      ],
      "execution_count": null,
      "outputs": [
        {
          "output_type": "execute_result",
          "data": {
            "text/html": [
              "<div>\n",
              "<style scoped>\n",
              "    .dataframe tbody tr th:only-of-type {\n",
              "        vertical-align: middle;\n",
              "    }\n",
              "\n",
              "    .dataframe tbody tr th {\n",
              "        vertical-align: top;\n",
              "    }\n",
              "\n",
              "    .dataframe thead th {\n",
              "        text-align: right;\n",
              "    }\n",
              "</style>\n",
              "<table border=\"1\" class=\"dataframe\">\n",
              "  <thead>\n",
              "    <tr style=\"text-align: right;\">\n",
              "      <th></th>\n",
              "      <th>ID</th>\n",
              "      <th>District</th>\n",
              "      <th>Item</th>\n",
              "      <th>Tip_item</th>\n",
              "      <th>Quantity</th>\n",
              "      <th>Price_item</th>\n",
              "      <th>General_price</th>\n",
              "      <th>Ранг</th>\n",
              "      <th>num</th>\n",
              "      <th>num_1</th>\n",
              "      <th>Ранг_1</th>\n",
              "    </tr>\n",
              "  </thead>\n",
              "  <tbody>\n",
              "    <tr>\n",
              "      <th>1</th>\n",
              "      <td>144</td>\n",
              "      <td>Академический</td>\n",
              "      <td>Berlingo Ручка шариковая PR-05 синяя</td>\n",
              "      <td>Ручки</td>\n",
              "      <td>39</td>\n",
              "      <td>93</td>\n",
              "      <td>3627</td>\n",
              "      <td>428</td>\n",
              "      <td>1</td>\n",
              "      <td>1</td>\n",
              "      <td>428</td>\n",
              "    </tr>\n",
              "    <tr>\n",
              "      <th>326</th>\n",
              "      <td>173</td>\n",
              "      <td>Крюково</td>\n",
              "      <td>Berlingo Ручка шариковая PR-05 синяя</td>\n",
              "      <td>Ручки</td>\n",
              "      <td>50</td>\n",
              "      <td>32</td>\n",
              "      <td>1600</td>\n",
              "      <td>196</td>\n",
              "      <td>51</td>\n",
              "      <td>51</td>\n",
              "      <td>196</td>\n",
              "    </tr>\n",
              "  </tbody>\n",
              "</table>\n",
              "</div>"
            ],
            "text/plain": [
              "      ID       District  ... num_1 Ранг_1\n",
              "1    144  Академический  ...     1    428\n",
              "326  173        Крюково  ...    51    196\n",
              "\n",
              "[2 rows x 11 columns]"
            ]
          },
          "metadata": {
            "tags": []
          },
          "execution_count": 65
        }
      ]
    },
    {
      "cell_type": "code",
      "metadata": {
        "id": "X3i0azdjT3sy"
      },
      "source": [
        ""
      ],
      "execution_count": null,
      "outputs": []
    }
  ]
}